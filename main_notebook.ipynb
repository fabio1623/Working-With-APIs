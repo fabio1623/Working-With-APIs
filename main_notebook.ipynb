{
 "cells": [
  {
   "cell_type": "markdown",
   "metadata": {},
   "source": [
    "# Use this notbook for your 3 choices of APIs"
   ]
  },
  {
   "cell_type": "code",
   "execution_count": null,
   "metadata": {},
   "outputs": [],
   "source": [
    "import requests\n",
    "import json\n",
    "import pandas as pd\n",
    "from getpass import getpass"
   ]
  },
  {
   "attachments": {},
   "cell_type": "markdown",
   "metadata": {},
   "source": [
    "#### Using Edamam API for Recipes search"
   ]
  },
  {
   "cell_type": "code",
   "execution_count": null,
   "metadata": {},
   "outputs": [],
   "source": [
    "edamam_base_url = 'https://api.edamam.com/api/recipes/v2'\n",
    "edamam_app_id = getpass(prompt='Enter Edamam APP ID: ')\n",
    "edamam_app_key = getpass(prompt='Enter Edamam APP KEY: ')"
   ]
  },
  {
   "cell_type": "code",
   "execution_count": null,
   "metadata": {},
   "outputs": [],
   "source": [
    "def extract_recipes_with_ingredients(hit):\n",
    "    return {\n",
    "        'recipe': hit['recipe']['label'],\n",
    "        'ingredients': extract_ingredients_names(hit['recipe']['ingredients'])\n",
    "    }\n",
    "\n",
    "\n",
    "def extract_ingredients_names(ingredients):\n",
    "    return [ingredient['food'] for ingredient in ingredients]\n",
    "\n",
    "\n",
    "def get_recipes(search_term):\n",
    "    response = requests.get(f'{edamam_base_url}?type=public&q={search_term}&app_id={edamam_app_id}&app_key={edamam_app_key}')\n",
    "    if response.status_code != 200:\n",
    "        print(f\"\"\"Error: {response.text}\"\"\")\n",
    "    else:\n",
    "        try:\n",
    "            return [extract_recipes_with_ingredients(hit) for hit in response.json()['hits']]\n",
    "        except:\n",
    "            print(f\"Could not parse results of '{search_term}'\")"
   ]
  },
  {
   "cell_type": "code",
   "execution_count": null,
   "metadata": {},
   "outputs": [],
   "source": [
    "recipes = get_recipes('chicken')\n",
    "len(recipes)"
   ]
  },
  {
   "cell_type": "code",
   "execution_count": null,
   "metadata": {},
   "outputs": [],
   "source": [
    "recipes"
   ]
  },
  {
   "attachments": {},
   "cell_type": "markdown",
   "metadata": {},
   "source": [
    "#### Using Spoonacular APIs to get random Recipes"
   ]
  },
  {
   "cell_type": "code",
   "execution_count": null,
   "metadata": {},
   "outputs": [],
   "source": [
    "spoonacular_base_url = 'https://api.spoonacular.com'\n",
    "spoonacular_api_key = getpass(prompt='Enter Spoonacular API KEY: ')"
   ]
  },
  {
   "cell_type": "code",
   "execution_count": null,
   "metadata": {},
   "outputs": [],
   "source": [
    "def extract_recipe_with_ingredients(recipe):\n",
    "    return {\n",
    "        'recipe': recipe['title'],\n",
    "        'ingredients': extract_ingredient_names(recipe['extendedIngredients'])\n",
    "    }\n",
    "\n",
    "\n",
    "def extract_ingredient_names(ingredients):\n",
    "    return [ingredient['nameClean'] for ingredient in ingredients]\n",
    "\n",
    "\n",
    "def get_random_recipes(nb_recipes):\n",
    "    response = requests.get(f'{spoonacular_base_url}/recipes/random?apiKey={spoonacular_api_key}&number={nb_recipes}')\n",
    "    if response.status_code != 200:\n",
    "        print(f\"\"\"Error: {response.text}\"\"\")\n",
    "    else:\n",
    "        try:\n",
    "            return [extract_recipe_with_ingredients(recipe) for recipe in response.json()['recipes']]\n",
    "        except:\n",
    "            print('Could not parse results.')\n",
    "            return []"
   ]
  },
  {
   "cell_type": "code",
   "execution_count": null,
   "metadata": {},
   "outputs": [],
   "source": [
    "random_recipes = get_random_recipes(3)"
   ]
  },
  {
   "cell_type": "code",
   "execution_count": null,
   "metadata": {},
   "outputs": [],
   "source": [
    "random_recipes"
   ]
  },
  {
   "attachments": {},
   "cell_type": "markdown",
   "metadata": {},
   "source": [
    "#### Using Open Food Facts to get available products from recipes in a particular supermarket"
   ]
  },
  {
   "cell_type": "code",
   "execution_count": null,
   "metadata": {},
   "outputs": [],
   "source": [
    "openfoodfacts_base_url = 'https://world.openfoodfacts.org'"
   ]
  },
  {
   "cell_type": "code",
   "execution_count": null,
   "metadata": {},
   "outputs": [],
   "source": [
    "def get_available_organic_products(country, supermarket, ingredient):\n",
    "    response = requests.get(f'{openfoodfacts_base_url}/api/v2/search?categories_tags={ingredient}&countries_tags_en={country}&labels_tags=organic&stores_tags={supermarket}&fields=product_name')\n",
    "    if response.status_code != 200:\n",
    "        print(f\"\"\"Error: {response.text}\"\"\")\n",
    "    else:\n",
    "        try:\n",
    "            return [product['product_name'] for product in response.json()['products'] if 'product_name' in product]\n",
    "        except:\n",
    "            print('Could not parse results.')\n",
    "            return []"
   ]
  },
  {
   "cell_type": "code",
   "execution_count": null,
   "metadata": {},
   "outputs": [],
   "source": [
    "def fetch_available_organic_products(country, supermarket, recipes):\n",
    "    for recipe in recipes:\n",
    "        enriched_ingredients = []\n",
    "        for ingredient in recipe['ingredients']:\n",
    "            products = get_available_organic_products(country, supermarket, ingredient)\n",
    "            enriched_ingredients.append({\n",
    "                'name' : ingredient,\n",
    "                'products_in_supermarket': products\n",
    "            })\n",
    "        recipe['ingredients'] = enriched_ingredients\n",
    "    \n",
    "    return recipes"
   ]
  },
  {
   "cell_type": "code",
   "execution_count": null,
   "metadata": {},
   "outputs": [],
   "source": [
    "random_recipes = fetch_available_organic_products('germany', 'rewe', random_recipes)"
   ]
  },
  {
   "cell_type": "code",
   "execution_count": null,
   "metadata": {},
   "outputs": [],
   "source": [
    "random_recipes"
   ]
  },
  {
   "attachments": {},
   "cell_type": "markdown",
   "metadata": {},
   "source": [
    "#### Use Case"
   ]
  },
  {
   "cell_type": "code",
   "execution_count": null,
   "metadata": {},
   "outputs": [],
   "source": [
    "# I want to have random recipes for my week\n",
    "\n",
    "week_recipes = get_random_recipes(7)"
   ]
  },
  {
   "cell_type": "code",
   "execution_count": null,
   "metadata": {},
   "outputs": [],
   "source": [
    "# I check if it is possible to get all ingredients in order to make these dishes\n",
    "\n",
    "week_recipes = fetch_available_organic_products('germany', 'rewe', week_recipes)\n",
    "len(week_recipes)"
   ]
  },
  {
   "cell_type": "code",
   "execution_count": null,
   "metadata": {},
   "outputs": [],
   "source": [
    "# I filter recipes that are not doable\n",
    "\n",
    "doable_recipes = []\n",
    "for recipe in week_recipes:\n",
    "    doable = True\n",
    "    for ingredient in recipe['ingredients']:\n",
    "        if ingredient['products_in_supermarket'] == []:\n",
    "            doable = False\n",
    "            break\n",
    "    if doable == True:\n",
    "        doable_recipes.append(recipe)\n",
    "\n",
    "len(doable_recipes)"
   ]
  },
  {
   "cell_type": "code",
   "execution_count": null,
   "metadata": {},
   "outputs": [],
   "source": [
    "# Apparently these recipes are not doable because we cannot buy all ingredients. We get recipes from ingredients we have then\n",
    "\n",
    "recipes_from_ingredients = get_recipes('chicken,egg,soy sauce,noodles')[:7]\n",
    "len(recipes_from_ingredients)"
   ]
  },
  {
   "cell_type": "code",
   "execution_count": null,
   "metadata": {},
   "outputs": [],
   "source": [
    "recipes_from_ingredients"
   ]
  }
 ],
 "metadata": {
  "kernelspec": {
   "display_name": "base",
   "language": "python",
   "name": "python3"
  },
  "language_info": {
   "codemirror_mode": {
    "name": "ipython",
    "version": 3
   },
   "file_extension": ".py",
   "mimetype": "text/x-python",
   "name": "python",
   "nbconvert_exporter": "python",
   "pygments_lexer": "ipython3",
   "version": "3.9.13"
  },
  "vscode": {
   "interpreter": {
    "hash": "40d3a090f54c6569ab1632332b64b2c03c39dcf918b08424e98f38b5ae0af88f"
   }
  }
 },
 "nbformat": 4,
 "nbformat_minor": 4
}
